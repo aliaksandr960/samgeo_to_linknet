{
 "cells": [
  {
   "cell_type": "code",
   "execution_count": 1,
   "id": "a66b1bd5-642e-42dd-a22b-a7343fbfe181",
   "metadata": {
    "tags": []
   },
   "outputs": [],
   "source": [
    "import random\n",
    "import os\n",
    "import numpy as np\n",
    "from tqdm import trange\n",
    "from pyproj import CRS\n",
    "from pyproj import Transformer\n",
    "from tms2geotiff.tms2geotiff import draw_tile\n",
    "\n",
    "from shapely.geometry import Point\n",
    "import geopandas as gpd"
   ]
  },
  {
   "attachments": {},
   "cell_type": "markdown",
   "id": "842f6aef-8ba9-4247-8f0d-95dada27038b",
   "metadata": {},
   "source": [
    "# Load Geofabrik OSM Landuse"
   ]
  },
  {
   "cell_type": "code",
   "execution_count": 2,
   "id": "03e9a437-14bb-4329-9377-e272e484a79f",
   "metadata": {
    "tags": []
   },
   "outputs": [],
   "source": [
    "tms_crs = 'EPSG:3857'"
   ]
  },
  {
   "cell_type": "code",
   "execution_count": 3,
   "id": "a07217a4-992e-486b-a0b7-e5261c1f7bc9",
   "metadata": {
    "tags": []
   },
   "outputs": [
    {
     "data": {
      "text/html": [
       "<div>\n",
       "<style scoped>\n",
       "    .dataframe tbody tr th:only-of-type {\n",
       "        vertical-align: middle;\n",
       "    }\n",
       "\n",
       "    .dataframe tbody tr th {\n",
       "        vertical-align: top;\n",
       "    }\n",
       "\n",
       "    .dataframe thead th {\n",
       "        text-align: right;\n",
       "    }\n",
       "</style>\n",
       "<table border=\"1\" class=\"dataframe\">\n",
       "  <thead>\n",
       "    <tr style=\"text-align: right;\">\n",
       "      <th></th>\n",
       "      <th>osm_id</th>\n",
       "      <th>code</th>\n",
       "      <th>fclass</th>\n",
       "      <th>name</th>\n",
       "      <th>geometry</th>\n",
       "    </tr>\n",
       "  </thead>\n",
       "  <tbody>\n",
       "    <tr>\n",
       "      <th>0</th>\n",
       "      <td>3870564</td>\n",
       "      <td>7218</td>\n",
       "      <td>grass</td>\n",
       "      <td>NaN</td>\n",
       "      <td>POLYGON ((1847748.602 6257290.611, 1847753.667...</td>\n",
       "    </tr>\n",
       "    <tr>\n",
       "      <th>1</th>\n",
       "      <td>3870580</td>\n",
       "      <td>7201</td>\n",
       "      <td>forest</td>\n",
       "      <td>Tajvan</td>\n",
       "      <td>POLYGON ((1565314.545 6231141.063, 1565366.598...</td>\n",
       "    </tr>\n",
       "    <tr>\n",
       "      <th>2</th>\n",
       "      <td>3870632</td>\n",
       "      <td>7201</td>\n",
       "      <td>forest</td>\n",
       "      <td>NaN</td>\n",
       "      <td>POLYGON ((1851334.247 6257024.145, 1851340.548...</td>\n",
       "    </tr>\n",
       "    <tr>\n",
       "      <th>3</th>\n",
       "      <td>4072815</td>\n",
       "      <td>7202</td>\n",
       "      <td>park</td>\n",
       "      <td>NaN</td>\n",
       "      <td>POLYGON ((1839947.365 6304903.295, 1839952.163...</td>\n",
       "    </tr>\n",
       "    <tr>\n",
       "      <th>4</th>\n",
       "      <td>4072816</td>\n",
       "      <td>7202</td>\n",
       "      <td>park</td>\n",
       "      <td>NaN</td>\n",
       "      <td>POLYGON ((1839979.915 6304858.187, 1839980.661...</td>\n",
       "    </tr>\n",
       "  </tbody>\n",
       "</table>\n",
       "</div>"
      ],
      "text/plain": [
       "    osm_id  code  fclass    name   \n",
       "0  3870564  7218   grass     NaN  \\\n",
       "1  3870580  7201  forest  Tajvan   \n",
       "2  3870632  7201  forest     NaN   \n",
       "3  4072815  7202    park     NaN   \n",
       "4  4072816  7202    park     NaN   \n",
       "\n",
       "                                            geometry  \n",
       "0  POLYGON ((1847748.602 6257290.611, 1847753.667...  \n",
       "1  POLYGON ((1565314.545 6231141.063, 1565366.598...  \n",
       "2  POLYGON ((1851334.247 6257024.145, 1851340.548...  \n",
       "3  POLYGON ((1839947.365 6304903.295, 1839952.163...  \n",
       "4  POLYGON ((1839979.915 6304858.187, 1839980.661...  "
      ]
     },
     "execution_count": 3,
     "metadata": {},
     "output_type": "execute_result"
    }
   ],
   "source": [
    "landused_geofabrik_shp_path = 'gis_osm_landuse_a_free_1.shp'\n",
    "landuse_gdf = gpd.read_file(landused_geofabrik_shp_path)\n",
    "landuse_gdf = landuse_gdf.to_crs(tms_crs)\n",
    "landuse_gdf.head()"
   ]
  },
  {
   "cell_type": "code",
   "execution_count": 4,
   "id": "ad6074e4-97c1-4964-9028-fc893b16ce1f",
   "metadata": {
    "tags": []
   },
   "outputs": [
    {
     "data": {
      "text/html": [
       "<div>\n",
       "<style scoped>\n",
       "    .dataframe tbody tr th:only-of-type {\n",
       "        vertical-align: middle;\n",
       "    }\n",
       "\n",
       "    .dataframe tbody tr th {\n",
       "        vertical-align: top;\n",
       "    }\n",
       "\n",
       "    .dataframe thead th {\n",
       "        text-align: right;\n",
       "    }\n",
       "</style>\n",
       "<table border=\"1\" class=\"dataframe\">\n",
       "  <thead>\n",
       "    <tr style=\"text-align: right;\">\n",
       "      <th></th>\n",
       "      <th>osm_id</th>\n",
       "      <th>code</th>\n",
       "      <th>fclass</th>\n",
       "      <th>name</th>\n",
       "      <th>geometry</th>\n",
       "    </tr>\n",
       "  </thead>\n",
       "  <tbody>\n",
       "    <tr>\n",
       "      <th>15</th>\n",
       "      <td>4549853</td>\n",
       "      <td>7229</td>\n",
       "      <td>farmland</td>\n",
       "      <td>NaN</td>\n",
       "      <td>POLYGON ((1846297.185 6250296.116, 1846323.935...</td>\n",
       "    </tr>\n",
       "    <tr>\n",
       "      <th>106</th>\n",
       "      <td>9370259</td>\n",
       "      <td>7229</td>\n",
       "      <td>farmland</td>\n",
       "      <td>NaN</td>\n",
       "      <td>POLYGON ((1449272.759 6305686.502, 1449291.160...</td>\n",
       "    </tr>\n",
       "    <tr>\n",
       "      <th>107</th>\n",
       "      <td>9370286</td>\n",
       "      <td>7229</td>\n",
       "      <td>farmland</td>\n",
       "      <td>NaN</td>\n",
       "      <td>POLYGON ((1452859.016 6303583.134, 1452978.740...</td>\n",
       "    </tr>\n",
       "    <tr>\n",
       "      <th>168</th>\n",
       "      <td>16944594</td>\n",
       "      <td>7229</td>\n",
       "      <td>farmland</td>\n",
       "      <td>NaN</td>\n",
       "      <td>POLYGON ((1613877.684 6469433.948, 1613883.795...</td>\n",
       "    </tr>\n",
       "    <tr>\n",
       "      <th>169</th>\n",
       "      <td>16944597</td>\n",
       "      <td>7229</td>\n",
       "      <td>farmland</td>\n",
       "      <td>NaN</td>\n",
       "      <td>POLYGON ((1613224.650 6469451.662, 1613231.663...</td>\n",
       "    </tr>\n",
       "  </tbody>\n",
       "</table>\n",
       "</div>"
      ],
      "text/plain": [
       "       osm_id  code    fclass name   \n",
       "15    4549853  7229  farmland  NaN  \\\n",
       "106   9370259  7229  farmland  NaN   \n",
       "107   9370286  7229  farmland  NaN   \n",
       "168  16944594  7229  farmland  NaN   \n",
       "169  16944597  7229  farmland  NaN   \n",
       "\n",
       "                                              geometry  \n",
       "15   POLYGON ((1846297.185 6250296.116, 1846323.935...  \n",
       "106  POLYGON ((1449272.759 6305686.502, 1449291.160...  \n",
       "107  POLYGON ((1452859.016 6303583.134, 1452978.740...  \n",
       "168  POLYGON ((1613877.684 6469433.948, 1613883.795...  \n",
       "169  POLYGON ((1613224.650 6469451.662, 1613231.663...  "
      ]
     },
     "execution_count": 4,
     "metadata": {},
     "output_type": "execute_result"
    }
   ],
   "source": [
    "landuse_class_name = \"farmland\"\n",
    "class_gdf = landuse_gdf[landuse_gdf.fclass == landuse_class_name]\n",
    "class_gdf.head()"
   ]
  },
  {
   "attachments": {},
   "cell_type": "markdown",
   "id": "d81cc4a5-e811-4cdb-b70a-4ab5d6c1f145",
   "metadata": {},
   "source": [
    "# Make a list with geometries and there areas"
   ]
  },
  {
   "cell_type": "code",
   "execution_count": 5,
   "id": "047158fe-d033-4de1-88f8-4a59f1a44339",
   "metadata": {
    "tags": []
   },
   "outputs": [
    {
     "name": "stdout",
     "output_type": "stream",
     "text": [
      "Total area 61484 sq.km.\n"
     ]
    }
   ],
   "source": [
    "total_area = 0\n",
    "geometry_list = []\n",
    "area_list = []\n",
    "p = None\n",
    "for geometry in class_gdf.geometry:\n",
    "    geometry_list.append(geometry)\n",
    "    \n",
    "    area = geometry.area\n",
    "    area_list.append(area)\n",
    "    total_area += area\n",
    "    \n",
    "relative_area_list = [i / total_area for i in area_list]\n",
    "print('Total area', int(total_area / (1000 * 1000)), 'sq.km.')"
   ]
  },
  {
   "attachments": {},
   "cell_type": "markdown",
   "id": "2915394b-c383-423a-a408-17bda272faf4",
   "metadata": {},
   "source": [
    "# Make functions to download images and get random points"
   ]
  },
  {
   "cell_type": "code",
   "execution_count": 6,
   "id": "390dd597-bb6f-4f5c-94d2-0c195d1f7d56",
   "metadata": {
    "tags": []
   },
   "outputs": [],
   "source": [
    "def download_tms_as_tiff(source, pt1, pt2, zoom, dist='t.tif'):\n",
    "    image = draw_tile(source, pt1[0], pt1[1], pt2[0], pt2[1],\n",
    "                      zoom, dist)\n",
    "    return image"
   ]
  },
  {
   "cell_type": "code",
   "execution_count": 7,
   "id": "254a3483-bece-4119-8551-1a77b1de2fe1",
   "metadata": {
    "tags": []
   },
   "outputs": [],
   "source": [
    "def random_point_inside_polygon(polygon, max_iterations=1024):\n",
    "    # https://gis.stackexchange.com/questions/207731/generating-random-coordinates-in-multipolygon-in-python\n",
    "    minx, miny, maxx, maxy = polygon.bounds\n",
    "    for i in range(max_iterations):\n",
    "        x, y = random.uniform(minx, maxx), random.uniform(miny, maxy)\n",
    "        point = Point(x, y)\n",
    "        if polygon.contains(point):\n",
    "            return x, y\n",
    "    return None"
   ]
  },
  {
   "attachments": {},
   "cell_type": "markdown",
   "id": "be7a088e-6a06-4ef3-afc2-25ea376d9194",
   "metadata": {},
   "source": [
    "# Download imagery"
   ]
  },
  {
   "cell_type": "code",
   "execution_count": 10,
   "id": "88757952-16ee-4a7b-8f17-47b58e5524c9",
   "metadata": {
    "tags": []
   },
   "outputs": [],
   "source": [
    "dx, dy = 917 *2, 917 *2 # -> 768x768 output\n",
    "zoom_level = 16\n",
    "\n",
    "xys_source_list = [\n",
    "    'put your XYZ Links',\n",
    "    'put your XYZ Links',\n",
    "]\n",
    "\n",
    "geometry_crs_epsg = 3857\n",
    "download_function_crs_epsg = 4326\n",
    "\n",
    "download_path = 'myclass_czech_5120'\n",
    "\n",
    "total_count = 5120"
   ]
  },
  {
   "cell_type": "code",
   "execution_count": 12,
   "id": "6c41ff8c-fbf6-466b-b96a-92331abaaf6a",
   "metadata": {
    "tags": []
   },
   "outputs": [
    {
     "name": "stderr",
     "output_type": "stream",
     "text": [
      "16it [00:00, 31.18it/s]\n"
     ]
    },
    {
     "name": "stdout",
     "output_type": "stream",
     "text": [
      "Done:  1\n"
     ]
    },
    {
     "name": "stderr",
     "output_type": "stream",
     "text": [
      "16it [00:01, 13.69it/s]\n"
     ]
    },
    {
     "name": "stdout",
     "output_type": "stream",
     "text": [
      "Done:  2\n"
     ]
    },
    {
     "name": "stderr",
     "output_type": "stream",
     "text": [
      "16it [00:00, 31.29it/s]\n"
     ]
    },
    {
     "name": "stdout",
     "output_type": "stream",
     "text": [
      "Done:  3\n"
     ]
    },
    {
     "name": "stderr",
     "output_type": "stream",
     "text": [
      "16it [00:00, 32.27it/s]\n"
     ]
    },
    {
     "name": "stdout",
     "output_type": "stream",
     "text": [
      "Done:  4\n"
     ]
    },
    {
     "name": "stderr",
     "output_type": "stream",
     "text": [
      "16it [00:00, 30.06it/s]\n"
     ]
    },
    {
     "name": "stdout",
     "output_type": "stream",
     "text": [
      "Done:  5\n"
     ]
    },
    {
     "name": "stderr",
     "output_type": "stream",
     "text": [
      "16it [00:00, 30.95it/s]\n"
     ]
    },
    {
     "name": "stdout",
     "output_type": "stream",
     "text": [
      "Done:  6\n"
     ]
    },
    {
     "name": "stderr",
     "output_type": "stream",
     "text": [
      "10it [00:01,  9.43it/s]\n"
     ]
    },
    {
     "ename": "KeyboardInterrupt",
     "evalue": "",
     "output_type": "error",
     "traceback": [
      "\u001b[0;31m---------------------------------------------------------------------------\u001b[0m",
      "\u001b[0;31mKeyboardInterrupt\u001b[0m                         Traceback (most recent call last)",
      "Cell \u001b[0;32mIn[12], line 29\u001b[0m\n\u001b[1;32m     27\u001b[0m fn \u001b[38;5;241m=\u001b[39m \u001b[38;5;124mf\u001b[39m\u001b[38;5;124m'\u001b[39m\u001b[38;5;132;01m{\u001b[39;00mcount\u001b[38;5;132;01m}\u001b[39;00m\u001b[38;5;124m.tif\u001b[39m\u001b[38;5;124m'\u001b[39m\n\u001b[1;32m     28\u001b[0m fp \u001b[38;5;241m=\u001b[39m os\u001b[38;5;241m.\u001b[39mpath\u001b[38;5;241m.\u001b[39mjoin(download_path, fn)\n\u001b[0;32m---> 29\u001b[0m _ \u001b[38;5;241m=\u001b[39m \u001b[43mdownload_tms_as_tiff\u001b[49m\u001b[43m(\u001b[49m\u001b[43msource\u001b[49m\u001b[43m,\u001b[49m\u001b[43m \u001b[49m\u001b[43mpt1\u001b[49m\u001b[43m,\u001b[49m\u001b[43m \u001b[49m\u001b[43mpt2\u001b[49m\u001b[43m,\u001b[49m\u001b[43m \u001b[49m\u001b[43mzoom_level\u001b[49m\u001b[43m,\u001b[49m\u001b[43m \u001b[49m\u001b[43mdist\u001b[49m\u001b[38;5;241;43m=\u001b[39;49m\u001b[43mfp\u001b[49m\u001b[43m)\u001b[49m\n\u001b[1;32m     31\u001b[0m \u001b[38;5;28mprint\u001b[39m(\u001b[38;5;124m'\u001b[39m\u001b[38;5;124mDone: \u001b[39m\u001b[38;5;124m'\u001b[39m, count)\n\u001b[1;32m     32\u001b[0m count \u001b[38;5;241m+\u001b[39m\u001b[38;5;241m=\u001b[39m \u001b[38;5;241m1\u001b[39m\n",
      "Cell \u001b[0;32mIn[6], line 2\u001b[0m, in \u001b[0;36mdownload_tms_as_tiff\u001b[0;34m(source, pt1, pt2, zoom, dist)\u001b[0m\n\u001b[1;32m      1\u001b[0m \u001b[38;5;28;01mdef\u001b[39;00m \u001b[38;5;21mdownload_tms_as_tiff\u001b[39m(source, pt1, pt2, zoom, dist\u001b[38;5;241m=\u001b[39m\u001b[38;5;124m'\u001b[39m\u001b[38;5;124mt.tif\u001b[39m\u001b[38;5;124m'\u001b[39m):\n\u001b[0;32m----> 2\u001b[0m     image \u001b[38;5;241m=\u001b[39m \u001b[43mdraw_tile\u001b[49m\u001b[43m(\u001b[49m\u001b[43msource\u001b[49m\u001b[43m,\u001b[49m\u001b[43m \u001b[49m\u001b[43mpt1\u001b[49m\u001b[43m[\u001b[49m\u001b[38;5;241;43m0\u001b[39;49m\u001b[43m]\u001b[49m\u001b[43m,\u001b[49m\u001b[43m \u001b[49m\u001b[43mpt1\u001b[49m\u001b[43m[\u001b[49m\u001b[38;5;241;43m1\u001b[39;49m\u001b[43m]\u001b[49m\u001b[43m,\u001b[49m\u001b[43m \u001b[49m\u001b[43mpt2\u001b[49m\u001b[43m[\u001b[49m\u001b[38;5;241;43m0\u001b[39;49m\u001b[43m]\u001b[49m\u001b[43m,\u001b[49m\u001b[43m \u001b[49m\u001b[43mpt2\u001b[49m\u001b[43m[\u001b[49m\u001b[38;5;241;43m1\u001b[39;49m\u001b[43m]\u001b[49m\u001b[43m,\u001b[49m\n\u001b[1;32m      3\u001b[0m \u001b[43m                      \u001b[49m\u001b[43mzoom\u001b[49m\u001b[43m,\u001b[49m\u001b[43m \u001b[49m\u001b[43mdist\u001b[49m\u001b[43m)\u001b[49m\n\u001b[1;32m      4\u001b[0m     \u001b[38;5;28;01mreturn\u001b[39;00m image\n",
      "File \u001b[0;32m~/my/eo_dist/segment-anything-eo/tms2geotiff/tms2geotiff.py:140\u001b[0m, in \u001b[0;36mdraw_tile\u001b[0;34m(source, lat0, lon0, lat1, lon1, zoom, filename)\u001b[0m\n\u001b[1;32m    138\u001b[0m     base_size \u001b[38;5;241m=\u001b[39m [\u001b[38;5;241m256\u001b[39m, \u001b[38;5;241m256\u001b[39m]\n\u001b[1;32m    139\u001b[0m     \u001b[38;5;28;01mfor\u001b[39;00m k, (fut, corner_xy) \u001b[38;5;129;01min\u001b[39;00m tqdm(\u001b[38;5;28menumerate\u001b[39m(\u001b[38;5;28mzip\u001b[39m(futures, corners), \u001b[38;5;241m1\u001b[39m)):\n\u001b[0;32m--> 140\u001b[0m         bigim \u001b[38;5;241m=\u001b[39m paste_tile(bigim, base_size, \u001b[43mfut\u001b[49m\u001b[38;5;241;43m.\u001b[39;49m\u001b[43mresult\u001b[49m\u001b[43m(\u001b[49m\u001b[43m)\u001b[49m, corner_xy, bbox)\n\u001b[1;32m    141\u001b[0m img \u001b[38;5;241m=\u001b[39m finish_picture(bigim, base_size, bbox, x0, y0, x1, y1)\n\u001b[1;32m    142\u001b[0m imgbands \u001b[38;5;241m=\u001b[39m \u001b[38;5;28mlen\u001b[39m(img\u001b[38;5;241m.\u001b[39mgetbands())\n",
      "File \u001b[0;32m/usr/lib/python3.10/concurrent/futures/_base.py:453\u001b[0m, in \u001b[0;36mFuture.result\u001b[0;34m(self, timeout)\u001b[0m\n\u001b[1;32m    450\u001b[0m \u001b[38;5;28;01melif\u001b[39;00m \u001b[38;5;28mself\u001b[39m\u001b[38;5;241m.\u001b[39m_state \u001b[38;5;241m==\u001b[39m FINISHED:\n\u001b[1;32m    451\u001b[0m     \u001b[38;5;28;01mreturn\u001b[39;00m \u001b[38;5;28mself\u001b[39m\u001b[38;5;241m.\u001b[39m__get_result()\n\u001b[0;32m--> 453\u001b[0m \u001b[38;5;28;43mself\u001b[39;49m\u001b[38;5;241;43m.\u001b[39;49m\u001b[43m_condition\u001b[49m\u001b[38;5;241;43m.\u001b[39;49m\u001b[43mwait\u001b[49m\u001b[43m(\u001b[49m\u001b[43mtimeout\u001b[49m\u001b[43m)\u001b[49m\n\u001b[1;32m    455\u001b[0m \u001b[38;5;28;01mif\u001b[39;00m \u001b[38;5;28mself\u001b[39m\u001b[38;5;241m.\u001b[39m_state \u001b[38;5;129;01min\u001b[39;00m [CANCELLED, CANCELLED_AND_NOTIFIED]:\n\u001b[1;32m    456\u001b[0m     \u001b[38;5;28;01mraise\u001b[39;00m CancelledError()\n",
      "File \u001b[0;32m/usr/lib/python3.10/threading.py:320\u001b[0m, in \u001b[0;36mCondition.wait\u001b[0;34m(self, timeout)\u001b[0m\n\u001b[1;32m    318\u001b[0m \u001b[38;5;28;01mtry\u001b[39;00m:    \u001b[38;5;66;03m# restore state no matter what (e.g., KeyboardInterrupt)\u001b[39;00m\n\u001b[1;32m    319\u001b[0m     \u001b[38;5;28;01mif\u001b[39;00m timeout \u001b[38;5;129;01mis\u001b[39;00m \u001b[38;5;28;01mNone\u001b[39;00m:\n\u001b[0;32m--> 320\u001b[0m         \u001b[43mwaiter\u001b[49m\u001b[38;5;241;43m.\u001b[39;49m\u001b[43macquire\u001b[49m\u001b[43m(\u001b[49m\u001b[43m)\u001b[49m\n\u001b[1;32m    321\u001b[0m         gotit \u001b[38;5;241m=\u001b[39m \u001b[38;5;28;01mTrue\u001b[39;00m\n\u001b[1;32m    322\u001b[0m     \u001b[38;5;28;01melse\u001b[39;00m:\n",
      "\u001b[0;31mKeyboardInterrupt\u001b[0m: "
     ]
    }
   ],
   "source": [
    "count = 1\n",
    "while count +1 < total_count:\n",
    "    \n",
    "    # Get random xyz source\n",
    "    source = random.choice(xys_source_list)\n",
    "    \n",
    "    # Choose random polygon weighted by area\n",
    "    weighted_random_n = np.random.choice([i for i in range(len(relative_area_list))],\n",
    "                                            size = 1,\n",
    "                                            p=relative_area_list)[0]\n",
    "    polygon = geometry_list[weighted_random_n]\n",
    "    \n",
    "    # Choose random point inside a polygon\n",
    "    xy = random_point_inside_polygon(polygon, max_iterations=1024)\n",
    "    if xy is None:\n",
    "        print('Could not find point inside a polygon. Max iteration count reached.')\n",
    "        continue\n",
    "    x1, y1 = random_point_inside_polygon(polygon, max_iterations=1024)\n",
    "    x1, y1 = x1 - (0.5 * dx), y1 - (0.5 * dy)\n",
    "    \n",
    "    # Make a rectangle to download\n",
    "    x2, y2 = x1 + dx, y1 + dy\n",
    "    transformer = Transformer.from_crs(geometry_crs_epsg, download_function_crs_epsg)\n",
    "    pt1 = transformer.transform(x1, y1)\n",
    "    pt2 = transformer.transform(x2, y2)\n",
    "    \n",
    "    fn = f'{count}.tif'\n",
    "    fp = os.path.join(download_path, fn)\n",
    "    _ = download_tms_as_tiff(source, pt1, pt2, zoom_level, dist=fp)\n",
    "\n",
    "    print('Done: ', count)\n",
    "    count += 1\n",
    "\n",
    "print('All done!')"
   ]
  },
  {
   "cell_type": "code",
   "execution_count": null,
   "id": "4f928902-f855-40f6-90ed-9111f898ea68",
   "metadata": {},
   "outputs": [],
   "source": []
  }
 ],
 "metadata": {
  "kernelspec": {
   "display_name": "Python 3 (ipykernel)",
   "language": "python",
   "name": "python3"
  },
  "language_info": {
   "codemirror_mode": {
    "name": "ipython",
    "version": 3
   },
   "file_extension": ".py",
   "mimetype": "text/x-python",
   "name": "python",
   "nbconvert_exporter": "python",
   "pygments_lexer": "ipython3",
   "version": "3.10.6"
  }
 },
 "nbformat": 4,
 "nbformat_minor": 5
}
